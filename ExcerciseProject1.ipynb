{
 "cells": [
  {
   "cell_type": "markdown",
   "id": "4b34003c-84c4-4b88-9481-f1654675dd53",
   "metadata": {},
   "source": [
    "### Task 1: Import Pandas and observe the structure of the file \"yob2021.txt\""
   ]
  },
  {
   "cell_type": "code",
   "execution_count": 1,
   "id": "a8f7f28f-c66c-4cb2-95f1-af5b892b649a",
   "metadata": {},
   "outputs": [],
   "source": [
    "import pandas as pd"
   ]
  },
  {
   "cell_type": "markdown",
   "id": "463278b4-1585-4862-a307-b3d816dee0d2",
   "metadata": {},
   "source": [
    "### Task 2: Read the file \"yob2021.txt\" into pandas"
   ]
  },
  {
   "cell_type": "code",
   "execution_count": 21,
   "id": "f6420317-1dd4-4cd8-a66d-517ff7b8fe8a",
   "metadata": {},
   "outputs": [],
   "source": [
    "df = pd.read_csv(\"yob2021.txt\", sep=\",\", header=None, names=[\"Name\", \"Gender\", \"Frequency\"])"
   ]
  },
  {
   "cell_type": "markdown",
   "id": "5495cea9-4f84-40e7-af57-a248eeecc9c2",
   "metadata": {},
   "source": [
    "### Task 3: Print the first 10 rows"
   ]
  },
  {
   "cell_type": "markdown",
   "id": "e82404f5-51b7-4b43-8f6e-00476ba448ca",
   "metadata": {},
   "source": [
    "df.head(10)"
   ]
  },
  {
   "cell_type": "markdown",
   "id": "993110f3-2db9-4d6f-8b67-1f6ad7e3a12e",
   "metadata": {},
   "source": [
    "### Task 4: Display the number of rows and columns"
   ]
  },
  {
   "cell_type": "code",
   "execution_count": 9,
   "id": "0f2a48f4-d9f3-40fc-8aa9-2160b6cb77b2",
   "metadata": {},
   "outputs": [
    {
     "data": {
      "text/plain": [
       "(31728, 3)"
      ]
     },
     "execution_count": 9,
     "metadata": {},
     "output_type": "execute_result"
    }
   ],
   "source": [
    "df.shape"
   ]
  },
  {
   "cell_type": "markdown",
   "id": "fb793e80-f464-480f-b6e5-2280095fe236",
   "metadata": {},
   "source": [
    "### Task 5: Calculate the total numbers of babies born in 2021"
   ]
  },
  {
   "cell_type": "code",
   "execution_count": 27,
   "id": "14a68199-cbf2-481c-8732-df979ee6e003",
   "metadata": {},
   "outputs": [
    {
     "data": {
      "text/plain": [
       "3384687"
      ]
     },
     "execution_count": 27,
     "metadata": {},
     "output_type": "execute_result"
    }
   ],
   "source": [
    "df[\"Frequency\"].sum()"
   ]
  },
  {
   "cell_type": "markdown",
   "id": "bb860037-f8ed-4acb-8307-c8d214caae38",
   "metadata": {},
   "source": [
    "### Task 6: Calculate the sum for boys and girls separately"
   ]
  },
  {
   "cell_type": "code",
   "execution_count": 88,
   "id": "b0aba9f2-3e73-4c4f-adad-bb20fbe58ec8",
   "metadata": {},
   "outputs": [
    {
     "data": {
      "text/plain": [
       "14080"
      ]
     },
     "execution_count": 88,
     "metadata": {},
     "output_type": "execute_result"
    }
   ],
   "source": [
    "(df[\"Gender\"] == \"M\").sum()"
   ]
  },
  {
   "cell_type": "code",
   "execution_count": 90,
   "id": "8a1de7fd-aa6e-48c9-a295-9481f4c4bcc2",
   "metadata": {},
   "outputs": [
    {
     "data": {
      "text/plain": [
       "17649"
      ]
     },
     "execution_count": 90,
     "metadata": {},
     "output_type": "execute_result"
    }
   ],
   "source": [
    "(df[\"Gender\"] == \"F\").sum()"
   ]
  },
  {
   "cell_type": "markdown",
   "id": "793cc134-0525-46e9-ac0c-d6244602b6e5",
   "metadata": {},
   "source": [
    "### Task 7: Check if your name occurs in the data."
   ]
  },
  {
   "cell_type": "code",
   "execution_count": 49,
   "id": "46d13099-05e5-48e6-b7a9-4c4050b97a4c",
   "metadata": {},
   "outputs": [
    {
     "data": {
      "text/plain": [
       "True"
      ]
     },
     "execution_count": 49,
     "metadata": {},
     "output_type": "execute_result"
    }
   ],
   "source": [
    "\"Bastian\" in df.values"
   ]
  },
  {
   "cell_type": "markdown",
   "id": "29e77bbb-7c2c-4993-80fb-947718a7b68f",
   "metadata": {},
   "source": [
    "### Task 8: Calculate the percentage of girls and boys among the total births."
   ]
  },
  {
   "cell_type": "code",
   "execution_count": 67,
   "id": "b1e13739-447f-4790-85f8-bcde936f222a",
   "metadata": {},
   "outputs": [
    {
     "data": {
      "text/plain": [
       "0.44375807620788554"
      ]
     },
     "execution_count": 67,
     "metadata": {},
     "output_type": "execute_result"
    }
   ],
   "source": [
    "(df[\"Gender\"] == \"M\").sum() / df[\"Gender\"].count()"
   ]
  },
  {
   "cell_type": "code",
   "execution_count": 69,
   "id": "89cf738e-851b-4ed3-9bde-cd050661fd6c",
   "metadata": {},
   "outputs": [
    {
     "data": {
      "text/plain": [
       "0.5562419237921145"
      ]
     },
     "execution_count": 69,
     "metadata": {},
     "output_type": "execute_result"
    }
   ],
   "source": [
    "(df[\"Gender\"] == \"F\").sum() / df[\"Gender\"].count()"
   ]
  },
  {
   "cell_type": "markdown",
   "id": "67f64c5a-2edf-44cb-89ae-cbb039d02988",
   "metadata": {},
   "source": [
    "### Task 9: Create a table that contains the top 5 girls names and top 5 boys names."
   ]
  },
  {
   "cell_type": "code",
   "execution_count": 139,
   "id": "73abcd22-6ef0-45e4-89b9-c15dfcc8acbf",
   "metadata": {},
   "outputs": [],
   "source": [
    "boys_top = df[(df[\"Gender\"] == \"M\")].head(5)"
   ]
  },
  {
   "cell_type": "code",
   "execution_count": 141,
   "id": "856fa89d-b83c-4490-8404-0fc6e639fa55",
   "metadata": {},
   "outputs": [],
   "source": [
    "girls_top = df[(df[\"Gender\"] == \"F\")].head(5)"
   ]
  },
  {
   "cell_type": "code",
   "execution_count": 143,
   "id": "7c3e8f24-d9c8-4deb-bf29-f50eea952195",
   "metadata": {},
   "outputs": [],
   "source": [
    "top_names = pd.concat([boys_top, girls_top])"
   ]
  },
  {
   "cell_type": "code",
   "execution_count": 145,
   "id": "36d96c4e-a2b0-4ecf-94c9-7515199daaad",
   "metadata": {},
   "outputs": [
    {
     "data": {
      "text/html": [
       "<div>\n",
       "<style scoped>\n",
       "    .dataframe tbody tr th:only-of-type {\n",
       "        vertical-align: middle;\n",
       "    }\n",
       "\n",
       "    .dataframe tbody tr th {\n",
       "        vertical-align: top;\n",
       "    }\n",
       "\n",
       "    .dataframe thead th {\n",
       "        text-align: right;\n",
       "    }\n",
       "</style>\n",
       "<table border=\"1\" class=\"dataframe\">\n",
       "  <thead>\n",
       "    <tr style=\"text-align: right;\">\n",
       "      <th></th>\n",
       "      <th>Name</th>\n",
       "      <th>Gender</th>\n",
       "      <th>Frequency</th>\n",
       "    </tr>\n",
       "  </thead>\n",
       "  <tbody>\n",
       "    <tr>\n",
       "      <th>17649</th>\n",
       "      <td>Liam</td>\n",
       "      <td>M</td>\n",
       "      <td>20391</td>\n",
       "    </tr>\n",
       "    <tr>\n",
       "      <th>17650</th>\n",
       "      <td>Noah</td>\n",
       "      <td>M</td>\n",
       "      <td>18884</td>\n",
       "    </tr>\n",
       "    <tr>\n",
       "      <th>17651</th>\n",
       "      <td>Oliver</td>\n",
       "      <td>M</td>\n",
       "      <td>14696</td>\n",
       "    </tr>\n",
       "    <tr>\n",
       "      <th>17652</th>\n",
       "      <td>Elijah</td>\n",
       "      <td>M</td>\n",
       "      <td>12807</td>\n",
       "    </tr>\n",
       "    <tr>\n",
       "      <th>17653</th>\n",
       "      <td>James</td>\n",
       "      <td>M</td>\n",
       "      <td>12452</td>\n",
       "    </tr>\n",
       "    <tr>\n",
       "      <th>0</th>\n",
       "      <td>Olivia</td>\n",
       "      <td>F</td>\n",
       "      <td>17824</td>\n",
       "    </tr>\n",
       "    <tr>\n",
       "      <th>1</th>\n",
       "      <td>Emma</td>\n",
       "      <td>F</td>\n",
       "      <td>15530</td>\n",
       "    </tr>\n",
       "    <tr>\n",
       "      <th>2</th>\n",
       "      <td>Charlotte</td>\n",
       "      <td>F</td>\n",
       "      <td>13352</td>\n",
       "    </tr>\n",
       "    <tr>\n",
       "      <th>3</th>\n",
       "      <td>Amelia</td>\n",
       "      <td>F</td>\n",
       "      <td>13024</td>\n",
       "    </tr>\n",
       "    <tr>\n",
       "      <th>4</th>\n",
       "      <td>Ava</td>\n",
       "      <td>F</td>\n",
       "      <td>12854</td>\n",
       "    </tr>\n",
       "  </tbody>\n",
       "</table>\n",
       "</div>"
      ],
      "text/plain": [
       "            Name Gender  Frequency\n",
       "17649       Liam      M      20391\n",
       "17650       Noah      M      18884\n",
       "17651     Oliver      M      14696\n",
       "17652     Elijah      M      12807\n",
       "17653      James      M      12452\n",
       "0         Olivia      F      17824\n",
       "1           Emma      F      15530\n",
       "2      Charlotte      F      13352\n",
       "3         Amelia      F      13024\n",
       "4            Ava      F      12854"
      ]
     },
     "execution_count": 145,
     "metadata": {},
     "output_type": "execute_result"
    }
   ],
   "source": [
    "top_names"
   ]
  },
  {
   "cell_type": "markdown",
   "id": "2fe8f50f-52fd-4038-9d76-a46e133cce47",
   "metadata": {},
   "source": [
    "### Task 10: Write the data from task 9 to an Excel Spreadsheet"
   ]
  },
  {
   "cell_type": "code",
   "execution_count": 157,
   "id": "81e17090-4e46-44d0-b56a-10f438c27eae",
   "metadata": {},
   "outputs": [],
   "source": [
    "top_names.to_excel(\"top_baby_names.xlsx\")"
   ]
  },
  {
   "cell_type": "code",
   "execution_count": null,
   "id": "a7604c65-82c2-468d-86be-c3b398b3a23a",
   "metadata": {},
   "outputs": [],
   "source": []
  }
 ],
 "metadata": {
  "kernelspec": {
   "display_name": "Python 3 (ipykernel)",
   "language": "python",
   "name": "python3"
  },
  "language_info": {
   "codemirror_mode": {
    "name": "ipython",
    "version": 3
   },
   "file_extension": ".py",
   "mimetype": "text/x-python",
   "name": "python",
   "nbconvert_exporter": "python",
   "pygments_lexer": "ipython3",
   "version": "3.12.4"
  }
 },
 "nbformat": 4,
 "nbformat_minor": 5
}
